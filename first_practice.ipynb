{
  "cells": [
    {
      "cell_type": "markdown",
      "metadata": {
        "id": "view-in-github",
        "colab_type": "text"
      },
      "source": [
        "<a href=\"https://colab.research.google.com/github/madhukalyangit/madhu_projects/blob/main/first_practice.ipynb\" target=\"_parent\"><img src=\"https://colab.research.google.com/assets/colab-badge.svg\" alt=\"Open In Colab\"/></a>"
      ]
    },
    {
      "cell_type": "code",
      "execution_count": null,
      "metadata": {
        "colab": {
          "base_uri": "https://localhost:8080/"
        },
        "id": "9jf5MsUlyTVi",
        "outputId": "185e12cf-5e67-4730-ebc5-f4d486b7fa0d"
      },
      "outputs": [
        {
          "name": "stdout",
          "output_type": "stream",
          "text": [
            "hello world\n"
          ]
        }
      ],
      "source": [
        "print(\"hello world\")"
      ]
    },
    {
      "cell_type": "markdown",
      "metadata": {
        "id": "6zLPA6wQyj9m"
      },
      "source": [
        "variable"
      ]
    },
    {
      "cell_type": "code",
      "execution_count": null,
      "metadata": {
        "colab": {
          "base_uri": "https://localhost:8080/"
        },
        "id": "57YozC3Yyn2V",
        "outputId": "688b580f-9b99-4c62-b3d7-01513355f007"
      },
      "outputs": [
        {
          "name": "stdout",
          "output_type": "stream",
          "text": [
            "10\n",
            "12.3\n",
            "madhu\n",
            "10 12.3 madhu\n",
            "<class 'int'>\n",
            "<class 'float'>\n",
            "<class 'str'>\n",
            "<class 'bool'>\n"
          ]
        }
      ],
      "source": [
        "a=10\n",
        "b=12.3\n",
        "c='madhu'\n",
        "hfy_sjh=\"madhu\"\n",
        "_rad=63\n",
        "d=True\n",
        "e=False\n",
        "\n",
        "print(a)\n",
        "print(b)\n",
        "print(c)\n",
        "print(a,b,c)\n",
        "print(type(a))\n",
        "print(type(b))\n",
        "print(type(c))\n",
        "print(type(e))"
      ]
    },
    {
      "cell_type": "code",
      "execution_count": null,
      "metadata": {
        "colab": {
          "base_uri": "https://localhost:8080/"
        },
        "id": "ShMxjM046_uY",
        "outputId": "553e1c22-4319-4783-bbe1-69de430ed344"
      },
      "outputs": [
        {
          "name": "stdout",
          "output_type": "stream",
          "text": [
            "enter a value234\n",
            "enter age33\n",
            "enter name434\n",
            "234\n",
            "33\n",
            "434\n"
          ]
        }
      ],
      "source": [
        "a=input(\"enter a value\")\n",
        "b=int(input(\"enter age\"))\n",
        "c=str(input(\"enter name\"))\n",
        "print(a)\n",
        "print(b)\n",
        "print(c)"
      ]
    },
    {
      "cell_type": "code",
      "execution_count": null,
      "metadata": {
        "colab": {
          "base_uri": "https://localhost:8080/"
        },
        "id": "g00MzXeS8LbI",
        "outputId": "9b485964-387a-4953-d462-e4c4a5c11c62"
      },
      "outputs": [
        {
          "name": "stdout",
          "output_type": "stream",
          "text": [
            "2\n",
            "<class 'int'>\n"
          ]
        }
      ],
      "source": [
        "a=2.3\n",
        "b=int(a)\n",
        "print(b)\n",
        "print(type(b))"
      ]
    },
    {
      "cell_type": "code",
      "execution_count": null,
      "metadata": {
        "colab": {
          "base_uri": "https://localhost:8080/"
        },
        "id": "QBggrBihErvq",
        "outputId": "a35b3e64-c8f5-4ff0-f0bf-587e69bf286b"
      },
      "outputs": [
        {
          "name": "stdout",
          "output_type": "stream",
          "text": [
            "23\n",
            "hi welcome to 23\n"
          ]
        }
      ],
      "source": [
        "a=input()\n",
        "print(f\"hi welcome to {a}\")"
      ]
    },
    {
      "cell_type": "code",
      "execution_count": null,
      "metadata": {
        "colab": {
          "base_uri": "https://localhost:8080/"
        },
        "id": "Af-dLTbVFLf1",
        "outputId": "e82bbecc-1627-480d-ac40-09bbc9c69cc0"
      },
      "outputs": [
        {
          "name": "stdout",
          "output_type": "stream",
          "text": [
            "5\n",
            "5\n",
            "0\n",
            "6\n",
            "1\n",
            "9\n",
            "0\n"
          ]
        }
      ],
      "source": [
        "a=3\n",
        "b=2\n",
        "print(a+b)\n",
        "c=a+b\n",
        "print(c)\n",
        "print(int(b/a))\n",
        "print(a*b)\n",
        "print(a%b)\n",
        "print(a**b)#power\n",
        "print(int(b//a))"
      ]
    },
    {
      "cell_type": "code",
      "execution_count": null,
      "metadata": {
        "colab": {
          "base_uri": "https://localhost:8080/"
        },
        "id": "0vabSuPWI_Y4",
        "outputId": "280aaa0d-9e75-46f2-f868-19981545b90e"
      },
      "outputs": [
        {
          "name": "stdout",
          "output_type": "stream",
          "text": [
            "hi a10 is less than 20 True\n",
            "False\n",
            "True\n"
          ]
        }
      ],
      "source": [
        "a=104.\n",
        "b=20\n",
        "print(f\"hi a{a} is less than {b}\",a<b)\n",
        "print(not(a<b or a<=b))\n",
        "print(a<b or a<=b)"
      ]
    },
    {
      "cell_type": "code",
      "execution_count": null,
      "metadata": {
        "colab": {
          "base_uri": "https://localhost:8080/"
        },
        "id": "sPmo-wnzJ30I",
        "outputId": "e7bd58c6-92fe-4478-b272-27ff9a9be06b"
      },
      "outputs": [
        {
          "name": "stdout",
          "output_type": "stream",
          "text": [
            "205\n",
            "344\n",
            "334\n"
          ]
        }
      ],
      "source": [
        "a=10*b\n",
        "b=5\n",
        "print(a+b)\n",
        "b=float(input())\n",
        "h=float(input())\n",
        "c=1/2*b*h\n"
      ]
    },
    {
      "cell_type": "code",
      "execution_count": null,
      "metadata": {
        "colab": {
          "base_uri": "https://localhost:8080/"
        },
        "id": "ea-8H_jWKyeX",
        "outputId": "f3feecea-47a0-410a-c793-accf442c328e"
      },
      "outputs": [
        {
          "name": "stdout",
          "output_type": "stream",
          "text": [
            "enter value 3\n",
            "this is greater than zero\n"
          ]
        }
      ],
      "source": [
        "num=int(input(\"enter value \"))\n",
        "if num>0:\n",
        "  print(\"this is greater than zero\")\n",
        "if num<0:\n",
        "  print(\"this is less than zero\")\n",
        "if num==0:\n",
        "  print(\"this is equal to zero\")\n"
      ]
    },
    {
      "cell_type": "code",
      "execution_count": null,
      "metadata": {
        "colab": {
          "base_uri": "https://localhost:8080/"
        },
        "id": "abQih_h0MB1H",
        "outputId": "cfd146f8-5e11-4c97-dce4-d2853533c87f"
      },
      "outputs": [
        {
          "name": "stdout",
          "output_type": "stream",
          "text": [
            "enter value 4\n",
            "this is greater than zero\n"
          ]
        }
      ],
      "source": [
        "num=int(input(\"enter value \"))\n",
        "if num>0:\n",
        "  print(\"this is greater than zero\")\n",
        "else:\n",
        "  print(\"thios is less than zero\")"
      ]
    },
    {
      "cell_type": "code",
      "execution_count": null,
      "metadata": {
        "colab": {
          "base_uri": "https://localhost:8080/"
        },
        "id": "2b7-MJGjMZQ1",
        "outputId": "4b47fd60-0cb5-4494-90ea-b4db9ceda252"
      },
      "outputs": [
        {
          "name": "stdout",
          "output_type": "stream",
          "text": [
            "enter value 4\n",
            "num is greater trthan 0\n"
          ]
        }
      ],
      "source": [
        "num=int(input(\"enter value \"))\n",
        "if num>0:\n",
        "  print(\"num is greater trthan 0\")\n",
        "elif num<0:\n",
        "  print(\"num is less than 0\")\n"
      ]
    },
    {
      "cell_type": "code",
      "execution_count": null,
      "metadata": {
        "colab": {
          "base_uri": "https://localhost:8080/"
        },
        "id": "fg52kNZiMyZW",
        "outputId": "b2a82752-ac5d-488f-8cb0-b03e73b74017"
      },
      "outputs": [
        {
          "name": "stdout",
          "output_type": "stream",
          "text": [
            "enter value 4\n",
            "num is greater trthan 0\n"
          ]
        }
      ],
      "source": [
        "num=int(input(\"enter value \"))\n",
        "if num>0:\n",
        "  print(\"num is greater trthan 0\")\n",
        "elif num<0:\n",
        "  print(\"num is less than 0\")\n",
        "else:\n",
        "  print(\"number is equal ito zero\")\n"
      ]
    },
    {
      "cell_type": "code",
      "execution_count": null,
      "metadata": {
        "colab": {
          "base_uri": "https://localhost:8080/"
        },
        "id": "3-K_bRRIM-mt",
        "outputId": "e9237293-5e88-4f94-e9c2-19523f22a27a"
      },
      "outputs": [
        {
          "name": "stdout",
          "output_type": "stream",
          "text": [
            "1\n",
            "2\n",
            "3\n",
            "4\n",
            "5\n",
            "6\n",
            "7\n",
            "8\n",
            "9\n"
          ]
        }
      ],
      "source": [
        "for i in range(1,10):\n",
        "  print(i)"
      ]
    },
    {
      "cell_type": "code",
      "execution_count": null,
      "metadata": {
        "colab": {
          "base_uri": "https://localhost:8080/"
        },
        "id": "D5UPlowch9vd",
        "outputId": "c9ce4b88-c25f-4ad3-baa5-2cfa342c01b7"
      },
      "outputs": [
        {
          "name": "stdout",
          "output_type": "stream",
          "text": [
            "enter start value 4\n",
            "enter end value+1 9\n",
            "enter steps 2\n",
            "4\n",
            "6\n",
            "8\n"
          ]
        }
      ],
      "source": [
        "start=int(input(\"enter start value \"))\n",
        "end=int(input(\"enter end value+1 \"))\n",
        "st=int(input(\"enter steps \"))\n",
        "for i in range(start,end,st):\n",
        "  print(i)"
      ]
    },
    {
      "cell_type": "code",
      "execution_count": null,
      "metadata": {
        "colab": {
          "base_uri": "https://localhost:8080/"
        },
        "id": "VzVeap9ajDV3",
        "outputId": "a0c02f0f-01bb-4468-f857-081937421fd1"
      },
      "outputs": [
        {
          "name": "stdout",
          "output_type": "stream",
          "text": [
            "enter a stringmadhu\n",
            "m\n",
            "a\n",
            "d\n",
            "h\n",
            "u\n"
          ]
        }
      ],
      "source": [
        "a=str(input(\"enter a string\"))\n",
        "for i in a:\n",
        "  print(i)"
      ]
    },
    {
      "cell_type": "code",
      "execution_count": null,
      "metadata": {
        "colab": {
          "base_uri": "https://localhost:8080/"
        },
        "id": "rNa4k4BwkOwp",
        "outputId": "a61c0a48-15d6-4078-cd4e-8f9151ae7f67"
      },
      "outputs": [
        {
          "name": "stdout",
          "output_type": "stream",
          "text": [
            "10\n",
            "12\n",
            "14\n",
            "16\n",
            "18\n",
            "20\n"
          ]
        }
      ],
      "source": [
        "#print even num from 10 to 30\n",
        "for i in range(10,21,2):\n",
        "  print(i)\n"
      ]
    },
    {
      "cell_type": "code",
      "execution_count": null,
      "metadata": {
        "colab": {
          "base_uri": "https://localhost:8080/"
        },
        "id": "2sjg3DvLrZeA",
        "outputId": "7e33eb60-2be4-4451-e631-23f9f39c6dd6"
      },
      "outputs": [
        {
          "name": "stdout",
          "output_type": "stream",
          "text": [
            "10\n",
            "9\n",
            "8\n",
            "7\n",
            "6\n",
            "5\n",
            "4\n",
            "3\n",
            "2\n",
            "1\n"
          ]
        }
      ],
      "source": [
        "for i in range(10,0,-1):\n",
        "  print(i)"
      ]
    },
    {
      "cell_type": "code",
      "execution_count": null,
      "metadata": {
        "colab": {
          "base_uri": "https://localhost:8080/"
        },
        "id": "jmucFARNrsrx",
        "outputId": "5765239b-bb49-4090-dd73-b716ebafe136"
      },
      "outputs": [
        {
          "name": "stdout",
          "output_type": "stream",
          "text": [
            "10\n",
            "8\n",
            "6\n",
            "4\n",
            "2\n"
          ]
        }
      ],
      "source": [
        "for i in range(10,0,-2):\n",
        "  print(i)"
      ]
    },
    {
      "cell_type": "code",
      "execution_count": null,
      "metadata": {
        "colab": {
          "base_uri": "https://localhost:8080/"
        },
        "id": "eMWfTdFtkk1E",
        "outputId": "3eeed020-2eed-4853-bf79-b0c90bf86bda"
      },
      "outputs": [
        {
          "name": "stdout",
          "output_type": "stream",
          "text": [
            "10\n",
            "12\n",
            "14\n",
            "16\n",
            "18\n",
            "20\n"
          ]
        }
      ],
      "source": [
        "for i in range(10,21):\n",
        "  if i%2==0:\n",
        "    print(i)"
      ]
    },
    {
      "cell_type": "code",
      "execution_count": null,
      "metadata": {
        "colab": {
          "base_uri": "https://localhost:8080/"
        },
        "id": "uZM5nwr6k4ZG",
        "outputId": "adb6013a-b306-4d95-d6a9-ec5b0dde1c77"
      },
      "outputs": [
        {
          "name": "stdout",
          "output_type": "stream",
          "text": [
            "11\n",
            "13\n",
            "15\n",
            "17\n",
            "19\n"
          ]
        }
      ],
      "source": [
        "#print even num from 10 to 20\n",
        "for i in range(10,21):\n",
        "  if i%2!=0:\n",
        "    print(i)"
      ]
    },
    {
      "cell_type": "code",
      "execution_count": null,
      "metadata": {
        "colab": {
          "base_uri": "https://localhost:8080/"
        },
        "id": "3x_mdOOYlOVm",
        "outputId": "889fd597-d5e3-4949-ffa9-536159ec69f7"
      },
      "outputs": [
        {
          "name": "stdout",
          "output_type": "stream",
          "text": [
            "10\n",
            "11\n",
            "12\n",
            "13\n",
            "14\n",
            "15\n",
            "16\n",
            "17\n",
            "18\n",
            "19\n"
          ]
        }
      ],
      "source": [
        "s=0\n",
        "for i in range(10,20):\n",
        "  a=s+i\n",
        "  print(a)\n"
      ]
    },
    {
      "cell_type": "code",
      "execution_count": null,
      "metadata": {
        "colab": {
          "base_uri": "https://localhost:8080/"
        },
        "id": "1cEdmitQPylo",
        "outputId": "3c8cd432-af7a-40dc-aaa7-165aadd01569"
      },
      "outputs": [
        {
          "name": "stdout",
          "output_type": "stream",
          "text": [
            "1\n",
            "3\n",
            "6\n",
            "10\n",
            "15\n",
            "21\n",
            "28\n",
            "36\n",
            "45\n",
            "55\n",
            "55\n"
          ]
        }
      ],
      "source": [
        "#WAP to display the sum of fist 10 numbers\n",
        "s=0\n",
        "for i in range(1,11):\n",
        "  s=s+i\n",
        "  print(s)\n",
        "print(s)\n"
      ]
    },
    {
      "cell_type": "code",
      "execution_count": null,
      "metadata": {
        "colab": {
          "base_uri": "https://localhost:8080/"
        },
        "id": "H7ltit0MQOX6",
        "outputId": "c9e004ac-2271-4937-a18f-15c717ad9254"
      },
      "outputs": [
        {
          "name": "stdout",
          "output_type": "stream",
          "text": [
            "650\n"
          ]
        }
      ],
      "source": [
        " #WAP to calculate the sum of all even numbers from 1 to 50 using a for loop.\n",
        " s=0\n",
        " for i in range(1,51):\n",
        "  if i%2==0:\n",
        "    s=s+i\n",
        "print(s)\n"
      ]
    },
    {
      "cell_type": "code",
      "execution_count": null,
      "metadata": {
        "colab": {
          "base_uri": "https://localhost:8080/"
        },
        "id": "hWK5RUNjQyt1",
        "outputId": "71cb7fdd-b06f-4d4b-e659-cafa47d893d8"
      },
      "outputs": [
        {
          "name": "stdout",
          "output_type": "stream",
          "text": [
            "enter a value5\n",
            "15\n"
          ]
        }
      ],
      "source": [
        " # WAP to display the sum of fist n natural numbers and n shuould be entered by user\n",
        " s=0\n",
        " n=int(input(\"enter a value\"))\n",
        " for i in range(1,n+1):\n",
        "  s=s+i\n",
        " print(s)"
      ]
    },
    {
      "cell_type": "code",
      "execution_count": null,
      "metadata": {
        "colab": {
          "base_uri": "https://localhost:8080/"
        },
        "id": "hV2a2LA8RXAV",
        "outputId": "e14193de-5325-4635-c539-93d39d451277"
      },
      "outputs": [
        {
          "name": "stdout",
          "output_type": "stream",
          "text": [
            "120\n"
          ]
        }
      ],
      "source": [
        " #WAP to find the factorial of a number using a for loop.\n",
        " s=1\n",
        " n=5\n",
        " for i in range(1,6):\n",
        "  s=s*i\n",
        " print(s)"
      ]
    },
    {
      "cell_type": "code",
      "execution_count": null,
      "metadata": {
        "colab": {
          "base_uri": "https://localhost:8080/"
        },
        "id": "Ss1QQlX8aoaq",
        "outputId": "5dc21599-c556-497c-e06e-c2dcdb1a1f56"
      },
      "outputs": [
        {
          "name": "stdout",
          "output_type": "stream",
          "text": [
            "***** \n",
            "***** \n",
            "***** \n",
            "***** \n",
            "***** \n"
          ]
        }
      ],
      "source": [
        "for i in range(1,6):\n",
        "  for j in range(1,6):\n",
        "    print(\"*\",end=\"\")\n",
        "  print(\" \")"
      ]
    },
    {
      "cell_type": "code",
      "execution_count": null,
      "metadata": {
        "colab": {
          "base_uri": "https://localhost:8080/"
        },
        "id": "dPYTABu-jGPN",
        "outputId": "abca5027-e7a1-4dfc-8ee3-fb03b68f80dd"
      },
      "outputs": [
        {
          "name": "stdout",
          "output_type": "stream",
          "text": [
            "*****\n",
            "*****\n",
            "*****\n",
            "*****\n",
            "*****\n"
          ]
        }
      ],
      "source": [
        "for i in range(1,6):\n",
        "  for j in range(1,6):\n",
        "    print(\"*\",end=\"\")\n",
        "  print(\"\")"
      ]
    },
    {
      "cell_type": "code",
      "execution_count": null,
      "metadata": {
        "colab": {
          "base_uri": "https://localhost:8080/"
        },
        "id": "4KI389cpqAQD",
        "outputId": "0c2e4a4d-2de3-4e71-8ca6-efe936372e22"
      },
      "outputs": [
        {
          "name": "stdout",
          "output_type": "stream",
          "text": [
            "#   #   #   #   #   #   #   #   #   #   \n",
            "#   #   #   #   #   #   #   #   #   #   \n",
            "#   #   #   #   #   #   #   #   #   #   \n",
            "#   #   #   #   #   #   #   #   #   #   \n",
            "#   #   #   #   #   #   #   #   #   #   \n",
            "#   #   #   #   #   #   #   #   #   #   \n",
            "#   #   #   #   #   #   #   #   #   #   \n"
          ]
        }
      ],
      "source": [
        "#7rows 10 columns\n",
        "for i in range(1,8):\n",
        "  for j in range(1,11):\n",
        "    print(\"#\",end=\"   \")\n",
        "  print(\"\")"
      ]
    },
    {
      "cell_type": "code",
      "execution_count": null,
      "metadata": {
        "colab": {
          "base_uri": "https://localhost:8080/"
        },
        "id": "umfQFRY3qdJm",
        "outputId": "baf44457-9220-4b61-bc1a-9374629dc8d0"
      },
      "outputs": [
        {
          "name": "stdout",
          "output_type": "stream",
          "text": [
            "#a#a#a#a#a#a#a#a#a#ab\n",
            "#a#a#a#a#a#a#a#a#a#ab\n",
            "#a#a#a#a#a#a#a#a#a#ab\n",
            "#a#a#a#a#a#a#a#a#a#ab\n",
            "#a#a#a#a#a#a#a#a#a#ab\n",
            "#a#a#a#a#a#a#a#a#a#ab\n",
            "#a#a#a#a#a#a#a#a#a#ab\n"
          ]
        }
      ],
      "source": [
        "for i in range(1,8):\n",
        "  for j in range(1,11):\n",
        "    print(\"#\",end=\"a\")\n",
        "  print(\"b\")"
      ]
    },
    {
      "cell_type": "code",
      "execution_count": null,
      "metadata": {
        "colab": {
          "base_uri": "https://localhost:8080/"
        },
        "id": "0M5yspHfq5jy",
        "outputId": "245c6261-8e77-46f4-b636-9f152167797e"
      },
      "outputs": [
        {
          "name": "stdout",
          "output_type": "stream",
          "text": [
            "1 2 3 4 5 \n",
            "1 2 3 4 5 \n",
            "1 2 3 4 5 \n",
            "1 2 3 4 5 \n",
            "1 2 3 4 5 \n"
          ]
        }
      ],
      "source": [
        "for i in range(1,6):\n",
        "  for j in range(1,6):\n",
        "    print(j,end=\" \")\n",
        "  print(\"\")"
      ]
    },
    {
      "cell_type": "code",
      "execution_count": null,
      "metadata": {
        "colab": {
          "base_uri": "https://localhost:8080/"
        },
        "id": "yxqidlOXsQY0",
        "outputId": "80ac6319-fff7-478a-90a5-0830c17a25c5"
      },
      "outputs": [
        {
          "name": "stdout",
          "output_type": "stream",
          "text": [
            "54321\n",
            "54321\n",
            "54321\n",
            "54321\n",
            "54321\n"
          ]
        }
      ],
      "source": [
        "for i in range(1,6):\n",
        "  for j in range(5,0,-1):\n",
        "    print(j,end=\"\")\n",
        "  print(\"\")"
      ]
    },
    {
      "cell_type": "code",
      "execution_count": null,
      "metadata": {
        "colab": {
          "base_uri": "https://localhost:8080/"
        },
        "id": "EuB7h1SWuTmo",
        "outputId": "bcb34edb-4a0e-43db-9b54-ff868d7b64f8"
      },
      "outputs": [
        {
          "name": "stdout",
          "output_type": "stream",
          "text": [
            "1 2 3 4 5 \n",
            "1 2 3 4 5 \n",
            "1 2 3 4 5 \n",
            "1 2 3 4 5 \n"
          ]
        }
      ],
      "source": [
        "for i in range(5,1,-1):\n",
        "  for j in range(1,6):\n",
        "    print(j,end=\" \")\n",
        "  print(\"\")"
      ]
    },
    {
      "cell_type": "code",
      "execution_count": null,
      "metadata": {
        "colab": {
          "base_uri": "https://localhost:8080/"
        },
        "id": "ihBtU6nTJeDn",
        "outputId": "cd2d7dfa-29e2-4631-f249-8cfd23de59f9"
      },
      "outputs": [
        {
          "name": "stdout",
          "output_type": "stream",
          "text": [
            "1\n",
            "12\n",
            "123\n",
            "1234\n",
            "12345\n"
          ]
        }
      ],
      "source": [
        " #1\n",
        " #12\n",
        " #123\n",
        " #1234\n",
        " #12345\n",
        "for i in range(1,6):\n",
        "  for j in range(1,i+1):\n",
        "    print(j,end=\"\")\n",
        "  print(\"\")"
      ]
    },
    {
      "cell_type": "code",
      "execution_count": null,
      "metadata": {
        "id": "msHpmeCuLgL6"
      },
      "outputs": [],
      "source": [
        " 11111\n",
        " 22222\n",
        " 33333\n",
        " 44444\n",
        " 55555"
      ]
    },
    {
      "cell_type": "code",
      "execution_count": null,
      "metadata": {
        "colab": {
          "base_uri": "https://localhost:8080/"
        },
        "id": "bZfFTnbOLqDs",
        "outputId": "eabd686d-1553-4579-a175-b91d645ab534"
      },
      "outputs": [
        {
          "name": "stdout",
          "output_type": "stream",
          "text": [
            "11111\n",
            "22222\n",
            "33333\n",
            "44444\n",
            "55555\n"
          ]
        }
      ],
      "source": [
        "for i in range(1,6):\n",
        "  for j in range(1,6):\n",
        "    print(i,end=\"\")\n",
        "  print(\"\")"
      ]
    },
    {
      "cell_type": "code",
      "execution_count": null,
      "metadata": {
        "colab": {
          "base_uri": "https://localhost:8080/"
        },
        "id": "4ayZw3dXMG7Q",
        "outputId": "ff4633a0-faa0-41cb-e1b6-7c49cc7186d8"
      },
      "outputs": [
        {
          "name": "stdout",
          "output_type": "stream",
          "text": [
            "m\n",
            "h\n"
          ]
        }
      ],
      "source": [
        "a=\"madhu\"\n",
        "print(a[0])\n",
        "print(a[-2]) #01234 #-5-4-3-2-1"
      ]
    },
    {
      "cell_type": "code",
      "execution_count": null,
      "metadata": {
        "id": "TT-mLrk0OBul"
      },
      "outputs": [],
      "source": [
        "#chr=\"abcdefg\"\n",
        "#str1=\"welcome python\""
      ]
    },
    {
      "cell_type": "code",
      "execution_count": null,
      "metadata": {
        "colab": {
          "base_uri": "https://localhost:8080/"
        },
        "id": "k3twlLExOE-2",
        "outputId": "a5b86fd5-3902-4b50-f574-9dceaefea95d"
      },
      "outputs": [
        {
          "name": "stdout",
          "output_type": "stream",
          "text": [
            "e\n",
            "c\n",
            "e\n"
          ]
        }
      ],
      "source": [
        "chr=\"abcdefg\"\n",
        "str1=\"welcome python\"\n",
        "for i in str1:\n",
        "  if i in chr:\n",
        "    print(i)"
      ]
    },
    {
      "cell_type": "code",
      "execution_count": null,
      "metadata": {
        "colab": {
          "base_uri": "https://localhost:8080/"
        },
        "id": "5FuUcBtIQToQ",
        "outputId": "3f2e2b7b-b5f6-4af1-9345-60d2219cb4aa"
      },
      "outputs": [
        {
          "name": "stdout",
          "output_type": "stream",
          "text": [
            "enter a value7\n",
            "enter a value9\n",
            "enter a value6\n",
            "9\n"
          ]
        }
      ],
      "source": [
        "a=int(input(\"enter a value\"))\n",
        "b=int(input(\"enter a value\"))\n",
        "c=int(input(\"enter a value\"))\n",
        "if a>b and a>c:\n",
        "  print(a)\n",
        "elif b>a and b>c:\n",
        "  print(b)\n",
        "else:\n",
        "  print(c)"
      ]
    },
    {
      "cell_type": "code",
      "execution_count": null,
      "metadata": {
        "colab": {
          "base_uri": "https://localhost:8080/"
        },
        "id": "KVuJFZsUT1rt",
        "outputId": "66f07b45-00e7-4515-d06f-1a427b279c8c"
      },
      "outputs": [
        {
          "name": "stdout",
          "output_type": "stream",
          "text": [
            "{'b', 'i', 'c', 'a', 'f', 'd'}\n",
            "{'a', 'd'}\n",
            "{'c', 'b'}\n",
            "{'i', 'f'}\n"
          ]
        }
      ],
      "source": [
        "s1={'a','b','c','d'}\n",
        "s2={'a','d','f','i'}\n",
        "print(s1.union(s2))\n",
        "print(s1.intersection(s2))\n",
        "print(s1.difference(s2))\n",
        "print(s2.difference(s1))"
      ]
    },
    {
      "cell_type": "code",
      "execution_count": null,
      "metadata": {
        "colab": {
          "base_uri": "https://localhost:8080/"
        },
        "id": "f65zekswXFip",
        "outputId": "5e9e3f7d-0e02-408b-f130-7532eaab2143"
      },
      "outputs": [
        {
          "name": "stdout",
          "output_type": "stream",
          "text": [
            "<class 'dict'>\n",
            "{'mad': 20, 'ram': 3.45, 'raj': 25, 'kal': 28}\n",
            "dict_values([20, 3.45, 25, 28])\n",
            "dict_keys(['mad', 'ram', 'raj', 'kal'])\n",
            "dict_items([('mad', 20), ('ram', 3.45), ('raj', 25), ('kal', 28)])\n"
          ]
        }
      ],
      "source": [
        "dic={\"mad\":20,\"ram\":23,\"raj\":25,\"kal\":28}\n",
        "print(type(dic))\n",
        "dic[\"ram\"]=3.45\n",
        "print(dic)\n",
        "print(dic.values())\n",
        "print(dic.keys())\n",
        "print(dic.items())"
      ]
    },
    {
      "cell_type": "code",
      "execution_count": null,
      "metadata": {
        "colab": {
          "base_uri": "https://localhost:8080/"
        },
        "id": "ZzHBvBkKYtlG",
        "outputId": "f00be022-7f8e-4a3d-c46f-8e07b529da07"
      },
      "outputs": [
        {
          "name": "stdout",
          "output_type": "stream",
          "text": [
            "{'mad': 20, 'ram': 23, 'raj': 25, 'kal': 28}\n",
            "{'mad': 20, 'ram': 23, 'kal': 28}\n",
            "{}\n"
          ]
        }
      ],
      "source": [
        "dic={\"mad\":20,\"ram\":23,\"raj\":25,\"kal\":28}\n",
        "print(dic)\n",
        "del dic['raj']\n",
        "print(dic)\n",
        "dic.clear()\n",
        "print(dic)"
      ]
    },
    {
      "cell_type": "code",
      "execution_count": null,
      "metadata": {
        "colab": {
          "base_uri": "https://localhost:8080/"
        },
        "id": "kfnKn5I7Zrae",
        "outputId": "e8b01ccb-ef46-47ea-88d1-22ee32ab0a9b"
      },
      "outputs": [
        {
          "data": {
            "text/plain": [
              "24.0"
            ]
          },
          "execution_count": 47,
          "metadata": {},
          "output_type": "execute_result"
        }
      ],
      "source": [
        "dic={\"mad\":20,\"ram\":23,\"raj\":25,\"kal\":28}\n",
        "max(dic.values())\n",
        "sum(dic.values())\n",
        "len(dic)\n",
        "sum(dic.values())/len(dic)"
      ]
    },
    {
      "cell_type": "code",
      "execution_count": null,
      "metadata": {
        "id": "IwKVYT9ZeS4v"
      },
      "outputs": [],
      "source": [
        "a=3\n",
        "b=4\n",
        "def add(a,b):\n",
        "  c=a+b\n",
        "  print(c)"
      ]
    },
    {
      "cell_type": "code",
      "execution_count": null,
      "metadata": {
        "colab": {
          "background_save": true
        },
        "id": "u0o-Q1fVLSk5"
      },
      "outputs": [],
      "source": [
        "# print numbers from 1-5 using while loop\n",
        "a=1\n",
        "while a<=5:\n",
        "  print(a)\n",
        "a=a+1"
      ]
    },
    {
      "cell_type": "code",
      "source": [
        "#111111111111111111111111111111111111111111111111111111111111111111111111111111111111111111111111111111111111111111"
      ],
      "metadata": {
        "id": "8vd8OURr06SL"
      },
      "execution_count": null,
      "outputs": []
    },
    {
      "cell_type": "code",
      "source": [
        "print(\"hello\",end=\" \")\n",
        "print(\"python\")\n"
      ],
      "metadata": {
        "colab": {
          "base_uri": "https://localhost:8080/"
        },
        "id": "IiNy5mGP3rdD",
        "outputId": "766d856c-e888-4b30-eac8-51cb9178cf78"
      },
      "execution_count": null,
      "outputs": [
        {
          "output_type": "stream",
          "name": "stdout",
          "text": [
            "hello python\n"
          ]
        }
      ]
    },
    {
      "cell_type": "code",
      "source": [
        "for i in range(1,6):\n",
        " for j in range(1,6):\n",
        "    print(\"*\",end=\"\")\n",
        " print(\"\")"
      ],
      "metadata": {
        "colab": {
          "base_uri": "https://localhost:8080/"
        },
        "id": "6Jmeb-pf1ot6",
        "outputId": "5ee9f6e4-6dea-4fca-d79f-2c7430e0102b"
      },
      "execution_count": null,
      "outputs": [
        {
          "output_type": "stream",
          "name": "stdout",
          "text": [
            "*****\n",
            "*****\n",
            "*****\n",
            "*****\n",
            "*****\n"
          ]
        }
      ]
    },
    {
      "cell_type": "code",
      "source": [
        "for i in range(1,6):\n",
        "  for j in range(1,6):\n",
        "    print(j,end=\"\")\n",
        "  print(\" \")"
      ],
      "metadata": {
        "colab": {
          "base_uri": "https://localhost:8080/"
        },
        "id": "rWZGZ-dv4hpG",
        "outputId": "ae4ff956-cec5-4694-c528-6147047a2284"
      },
      "execution_count": null,
      "outputs": [
        {
          "output_type": "stream",
          "name": "stdout",
          "text": [
            "12345 \n",
            "12345 \n",
            "12345 \n",
            "12345 \n",
            "12345 \n"
          ]
        }
      ]
    },
    {
      "cell_type": "code",
      "source": [
        "for i in range(1,6):\n",
        "  for j in range(1,6):\n",
        "    print(\"#\",end=\"a\")\n",
        "  print(\"b\")"
      ],
      "metadata": {
        "colab": {
          "base_uri": "https://localhost:8080/"
        },
        "id": "nveUIeL54wZG",
        "outputId": "659d866e-586c-4465-c89b-127ede4beaee"
      },
      "execution_count": null,
      "outputs": [
        {
          "output_type": "stream",
          "name": "stdout",
          "text": [
            "#a#a#a#a#ab\n",
            "#a#a#a#a#ab\n",
            "#a#a#a#a#ab\n",
            "#a#a#a#a#ab\n",
            "#a#a#a#a#ab\n"
          ]
        }
      ]
    },
    {
      "cell_type": "code",
      "source": [
        "#display numbers form 1 to 10?\n",
        "for i in range(10,0,-1):\n",
        "  print(i)"
      ],
      "metadata": {
        "colab": {
          "base_uri": "https://localhost:8080/"
        },
        "id": "Nj2EsaZg8fwx",
        "outputId": "7c3be520-aafd-4d36-f50f-1302c32ac28e"
      },
      "execution_count": null,
      "outputs": [
        {
          "output_type": "stream",
          "name": "stdout",
          "text": [
            "10\n",
            "9\n",
            "8\n",
            "7\n",
            "6\n",
            "5\n",
            "4\n",
            "3\n",
            "2\n",
            "1\n"
          ]
        }
      ]
    },
    {
      "cell_type": "code",
      "source": [
        "for i in range(1,6):\n",
        "  for j in range(5,0,-1):\n",
        "    print(j,end=\"\")\n",
        "  print(\"\")"
      ],
      "metadata": {
        "colab": {
          "base_uri": "https://localhost:8080/"
        },
        "id": "RUFc6QOX6RaS",
        "outputId": "f5f7b423-31e1-44b3-8777-c42dfa2a0456"
      },
      "execution_count": null,
      "outputs": [
        {
          "output_type": "stream",
          "name": "stdout",
          "text": [
            "54321\n",
            "54321\n",
            "54321\n",
            "54321\n",
            "54321\n"
          ]
        }
      ]
    },
    {
      "cell_type": "code",
      "source": [
        "for i in range(1,6):\n",
        "  for j in range(5,0,-1):\n",
        "    print(i,end=\"\")\n",
        "  print(\"\")"
      ],
      "metadata": {
        "colab": {
          "base_uri": "https://localhost:8080/"
        },
        "id": "Gu-vrc4W7xdQ",
        "outputId": "6558660b-fe97-4fa0-d7f5-d0fdf0d5a835"
      },
      "execution_count": null,
      "outputs": [
        {
          "output_type": "stream",
          "name": "stdout",
          "text": [
            "11111\n",
            "22222\n",
            "33333\n",
            "44444\n",
            "55555\n"
          ]
        }
      ]
    },
    {
      "cell_type": "code",
      "source": [
        "#display nummbers from 20 to 5 wwith step size 2?\n",
        "for i in range(20,5,-2):\n",
        "  print(i)"
      ],
      "metadata": {
        "colab": {
          "base_uri": "https://localhost:8080/"
        },
        "id": "TAvmk32c83_0",
        "outputId": "ee4a96a3-3e6e-472e-ca89-757d2875d1cf"
      },
      "execution_count": null,
      "outputs": [
        {
          "output_type": "stream",
          "name": "stdout",
          "text": [
            "20\n",
            "18\n",
            "16\n",
            "14\n",
            "12\n",
            "10\n",
            "8\n",
            "6\n"
          ]
        }
      ]
    },
    {
      "cell_type": "code",
      "source": [
        "for i in range(1,6):\n",
        "  for j in range(1,i+1):\n",
        "    if i%2==0:\n",
        "      print(j**2,end=\"\")\n",
        "    else:\n",
        "      print(j,end=\"\")\n",
        "\n",
        "  print(\"\")"
      ],
      "metadata": {
        "colab": {
          "base_uri": "https://localhost:8080/"
        },
        "id": "BYOMTiL890k6",
        "outputId": "de6ab173-6538-4fba-c356-e517204e7d9a"
      },
      "execution_count": null,
      "outputs": [
        {
          "output_type": "stream",
          "name": "stdout",
          "text": [
            "1\n",
            "14\n",
            "123\n",
            "14916\n",
            "12345\n"
          ]
        }
      ]
    },
    {
      "cell_type": "code",
      "source": [
        "for i in range(1,6):\n",
        "  for j in range(1,i+1):\n",
        "    print(i,end=\"\")\n",
        "  print(\"\")"
      ],
      "metadata": {
        "colab": {
          "base_uri": "https://localhost:8080/"
        },
        "id": "ScU8Sww83Cex",
        "outputId": "a326b1cf-6882-4f7b-f6dd-f354d156dd22"
      },
      "execution_count": null,
      "outputs": [
        {
          "output_type": "stream",
          "name": "stdout",
          "text": [
            "1\n",
            "22\n",
            "333\n",
            "4444\n",
            "55555\n"
          ]
        }
      ]
    },
    {
      "cell_type": "code",
      "source": [
        "chr1=\"welocme\"\n",
        "str1=\"come\"\n",
        "for i in chr1:\n",
        "  if i not in str1:\n",
        "    print(i)"
      ],
      "metadata": {
        "colab": {
          "base_uri": "https://localhost:8080/"
        },
        "id": "HXx-7gbW7tK-",
        "outputId": "0fa99a98-959a-44f5-bca5-ce5b2f4c7ceb"
      },
      "execution_count": null,
      "outputs": [
        {
          "output_type": "stream",
          "name": "stdout",
          "text": [
            "w\n",
            "l\n"
          ]
        }
      ]
    },
    {
      "cell_type": "code",
      "source": [
        "str1=\"hello world\"\n",
        "vow=\"aeiou\"\n",
        "c=0\n",
        "for i in str1:\n",
        "  if i in vow:\n",
        "    c=c+1\n",
        "print(c)"
      ],
      "metadata": {
        "colab": {
          "base_uri": "https://localhost:8080/"
        },
        "id": "z3IRKVcy9SrR",
        "outputId": "aea84428-fbda-4493-ed6a-2833f8c3d6e6"
      },
      "execution_count": null,
      "outputs": [
        {
          "output_type": "stream",
          "name": "stdout",
          "text": [
            "3\n"
          ]
        }
      ]
    },
    {
      "cell_type": "code",
      "source": [
        "for i in range(5,0,-1):\n",
        "  for j in range(5,i-1,-1):\n",
        "    print(i,end=\"\")\n",
        "  print(\"\")"
      ],
      "metadata": {
        "colab": {
          "base_uri": "https://localhost:8080/"
        },
        "id": "Sx9SPSuP92eY",
        "outputId": "26dbf3ef-477b-486b-ca9d-ff854359d40d"
      },
      "execution_count": null,
      "outputs": [
        {
          "output_type": "stream",
          "name": "stdout",
          "text": [
            "5\n",
            "44\n",
            "333\n",
            "2222\n",
            "11111\n"
          ]
        }
      ]
    },
    {
      "cell_type": "code",
      "source": [
        "for i  in range(1,6):\n",
        "  for j in range(5,i-1,-1):\n",
        "    print(j,end=\"\")\n",
        "  print(\"\")"
      ],
      "metadata": {
        "colab": {
          "base_uri": "https://localhost:8080/"
        },
        "id": "BAHOApTTCauG",
        "outputId": "21546796-846a-403f-9890-75e2431c433a"
      },
      "execution_count": null,
      "outputs": [
        {
          "output_type": "stream",
          "name": "stdout",
          "text": [
            "54321\n",
            "5432\n",
            "543\n",
            "54\n",
            "5\n"
          ]
        }
      ]
    },
    {
      "cell_type": "code",
      "source": [
        "for i in range(1,6):\n",
        "  for j in range(5,0,-1):\n",
        "    print(j,end=\"\")\n",
        "  print(\"\")"
      ],
      "metadata": {
        "colab": {
          "base_uri": "https://localhost:8080/"
        },
        "id": "b4v7aJN-FtS6",
        "outputId": "ee986946-68e7-4aae-818a-72c54227d791"
      },
      "execution_count": null,
      "outputs": [
        {
          "output_type": "stream",
          "name": "stdout",
          "text": [
            "54321\n",
            "54321\n",
            "54321\n",
            "54321\n",
            "54321\n"
          ]
        }
      ]
    },
    {
      "cell_type": "code",
      "source": [
        "#ascci values for alphabates in captal is 65 to 90 aand small latters is 97 to 122"
      ],
      "metadata": {
        "id": "G5cz_1aqGxh8"
      },
      "execution_count": null,
      "outputs": []
    },
    {
      "cell_type": "code",
      "source": [
        "for i in range(1,6):\n",
        "  for j in range(65,70):\n",
        "    print(chr(j),end=\" \")\n",
        "  print(\" \")"
      ],
      "metadata": {
        "id": "nFLUYYJBHA_p",
        "colab": {
          "base_uri": "https://localhost:8080/"
        },
        "outputId": "b2d23c69-1557-4216-f7fd-0a635a6c2eb9"
      },
      "execution_count": null,
      "outputs": [
        {
          "output_type": "stream",
          "name": "stdout",
          "text": [
            "A B C D E  \n",
            "A B C D E  \n",
            "A B C D E  \n",
            "A B C D E  \n",
            "A B C D E  \n"
          ]
        }
      ]
    },
    {
      "cell_type": "code",
      "source": [
        "for i in range(1,6):\n",
        "  for j in range(97,102):\n",
        "    print(chr(j),end=\" \")\n",
        "  print(\" \")"
      ],
      "metadata": {
        "colab": {
          "base_uri": "https://localhost:8080/"
        },
        "id": "ufk1mo5SRKw0",
        "outputId": "e34bd71b-0029-4cbc-ed07-06a1dd7d7e84"
      },
      "execution_count": null,
      "outputs": [
        {
          "output_type": "stream",
          "name": "stdout",
          "text": [
            "a b c d e  \n",
            "a b c d e  \n",
            "a b c d e  \n",
            "a b c d e  \n",
            "a b c d e  \n"
          ]
        }
      ]
    },
    {
      "cell_type": "code",
      "source": [
        "for i in range(5,0,-1):\n",
        "  for j in range(97,97+i):\n",
        "    print(chr(j),end=\"\")\n",
        "  print(\"\")"
      ],
      "metadata": {
        "colab": {
          "base_uri": "https://localhost:8080/"
        },
        "id": "kRQVwaP2Ro6z",
        "outputId": "160f4c83-616c-487d-fdbf-142801df7583"
      },
      "execution_count": null,
      "outputs": [
        {
          "output_type": "stream",
          "name": "stdout",
          "text": [
            "abcde\n",
            "abcd\n",
            "abc\n",
            "ab\n",
            "a\n"
          ]
        }
      ]
    },
    {
      "cell_type": "code",
      "source": [
        "for i in range(1,6):\n",
        "  for j in range(1,i+1):\n",
        "    print('*',end=\"\")\n",
        "  print(\"\")\n",
        "for i in range(5,0,-1):\n",
        "  for j in range(1,i-1):\n",
        "    print(\"*\",end=\"\")\n",
        "  print(\"\")"
      ],
      "metadata": {
        "colab": {
          "base_uri": "https://localhost:8080/"
        },
        "id": "uMamwFugU-BT",
        "outputId": "439b98f0-0bd0-43ed-b0dd-2eada2e8edca"
      },
      "execution_count": null,
      "outputs": [
        {
          "output_type": "stream",
          "name": "stdout",
          "text": [
            "*\n",
            "**\n",
            "***\n",
            "****\n",
            "*****\n",
            "***\n",
            "**\n",
            "*\n",
            "\n",
            "\n"
          ]
        }
      ]
    },
    {
      "cell_type": "code",
      "source": [
        "n = 6\n",
        "for i in range(1,n+1):\n",
        "  for j in range(1,n+1):\n",
        "    if i==n//2 or j==n//2 or i==j or i+j==n+1:\n",
        "      print(\"*\",end=\" \")\n",
        "\n",
        "    else:\n",
        "      print(\" \",end=\" \")\n",
        "\n",
        "  print(\" \")"
      ],
      "metadata": {
        "colab": {
          "base_uri": "https://localhost:8080/"
        },
        "id": "hXzOSM2zFlTR",
        "outputId": "95493324-1eb6-4b87-e044-4caf9c0022cf"
      },
      "execution_count": null,
      "outputs": [
        {
          "output_type": "stream",
          "name": "stdout",
          "text": [
            "*   *     *  \n",
            "  * *   *    \n",
            "* * * * * *  \n",
            "    * *      \n",
            "  * *   *    \n",
            "*   *     *  \n"
          ]
        }
      ]
    },
    {
      "cell_type": "code",
      "source": [
        "for i in range(1,11):\n",
        "  result = 2 * i\n",
        "  print(f\"2 x {i} = {result}\")\n",
        "\n"
      ],
      "metadata": {
        "colab": {
          "base_uri": "https://localhost:8080/"
        },
        "id": "jQkfbcOhFttN",
        "outputId": "e65f3828-2671-4122-94eb-89e3c64bc68d"
      },
      "execution_count": null,
      "outputs": [
        {
          "output_type": "stream",
          "name": "stdout",
          "text": [
            "2 x 1 = 2\n",
            "2 x 2 = 4\n",
            "2 x 3 = 6\n",
            "2 x 4 = 8\n",
            "2 x 5 = 10\n",
            "2 x 6 = 12\n",
            "2 x 7 = 14\n",
            "2 x 8 = 16\n",
            "2 x 9 = 18\n",
            "2 x 10 = 20\n"
          ]
        }
      ]
    },
    {
      "cell_type": "code",
      "source": [
        "#while loop"
      ],
      "metadata": {
        "id": "4A6iKeCEX5jP"
      },
      "execution_count": null,
      "outputs": []
    },
    {
      "cell_type": "code",
      "source": [
        "#numbers from 1 to 10?\n",
        "i=1\n",
        "while i<=10:\n",
        "  print(i)\n",
        "  i=i+1"
      ],
      "metadata": {
        "colab": {
          "base_uri": "https://localhost:8080/"
        },
        "id": "YI7v4EQ8YdHF",
        "outputId": "9481b79b-7456-4a38-ab0a-874cb9ddad42"
      },
      "execution_count": null,
      "outputs": [
        {
          "output_type": "stream",
          "name": "stdout",
          "text": [
            "1\n",
            "2\n",
            "3\n",
            "4\n",
            "5\n",
            "6\n",
            "7\n",
            "8\n",
            "9\n",
            "10\n"
          ]
        }
      ]
    },
    {
      "cell_type": "code",
      "source": [
        "#python 10 times\n",
        "i=1\n",
        "while i<=10:\n",
        "  print(\"python\")\n",
        "  i=i+1"
      ],
      "metadata": {
        "colab": {
          "base_uri": "https://localhost:8080/"
        },
        "id": "jtTUmmftZyT1",
        "outputId": "ea06fa5b-c837-4d58-af43-640c6dd63e02"
      },
      "execution_count": null,
      "outputs": [
        {
          "output_type": "stream",
          "name": "stdout",
          "text": [
            "python\n",
            "python\n",
            "python\n",
            "python\n",
            "python\n",
            "python\n",
            "python\n",
            "python\n",
            "python\n",
            "python\n"
          ]
        }
      ]
    },
    {
      "cell_type": "code",
      "source": [
        "# print numbers from 20 to 40 with step size of 2?\n",
        "i=10\n",
        "while i<=40:\n",
        "  print(i)\n",
        "  i=i+2"
      ],
      "metadata": {
        "colab": {
          "base_uri": "https://localhost:8080/"
        },
        "id": "JWWD82UvbLfb",
        "outputId": "676c12e2-0875-4802-beaf-4bcae849f0c6"
      },
      "execution_count": null,
      "outputs": [
        {
          "output_type": "stream",
          "name": "stdout",
          "text": [
            "10\n",
            "12\n",
            "14\n",
            "16\n",
            "18\n",
            "20\n",
            "22\n",
            "24\n",
            "26\n",
            "28\n",
            "30\n",
            "32\n",
            "34\n",
            "36\n",
            "38\n",
            "40\n"
          ]
        }
      ]
    },
    {
      "cell_type": "code",
      "source": [
        "#numbers from 10 to 1 ?\n",
        "i=10\n",
        "while i>=1:\n",
        "  print(i)\n",
        "  i=i-1"
      ],
      "metadata": {
        "colab": {
          "base_uri": "https://localhost:8080/"
        },
        "id": "3bbHHBpO-zZj",
        "outputId": "fbfa71a2-2875-470b-8142-bca463caabd9"
      },
      "execution_count": 4,
      "outputs": [
        {
          "output_type": "stream",
          "name": "stdout",
          "text": [
            "10\n",
            "9\n",
            "8\n",
            "7\n",
            "6\n",
            "5\n",
            "4\n",
            "3\n",
            "2\n",
            "1\n"
          ]
        }
      ]
    },
    {
      "cell_type": "code",
      "source": [
        "#print even numbers b/w 10 to 20 using whilee loop?\n",
        "i=10\n",
        "while i<=20:\n",
        "  print(i)\n",
        "  i=i+1"
      ],
      "metadata": {
        "colab": {
          "base_uri": "https://localhost:8080/"
        },
        "id": "0pElFC5RAReL",
        "outputId": "37ff8507-3c72-43ff-baca-b4661b47e09e"
      },
      "execution_count": 5,
      "outputs": [
        {
          "output_type": "stream",
          "name": "stdout",
          "text": [
            "10\n",
            "11\n",
            "12\n",
            "13\n",
            "14\n",
            "15\n",
            "16\n",
            "17\n",
            "18\n",
            "19\n",
            "20\n"
          ]
        }
      ]
    },
    {
      "cell_type": "code",
      "source": [
        "#print even numbers from 10 to 20 ?\n",
        "i=10\n",
        "while i<=20:\n",
        "  if i%2==0:\n",
        "    print(i)\n",
        "  i=i+1"
      ],
      "metadata": {
        "colab": {
          "base_uri": "https://localhost:8080/"
        },
        "id": "KF-dcVevAxo4",
        "outputId": "5bd65d27-d56c-4765-d37d-be9b0d9fcd57"
      },
      "execution_count": 6,
      "outputs": [
        {
          "output_type": "stream",
          "name": "stdout",
          "text": [
            "10\n",
            "12\n",
            "14\n",
            "16\n",
            "18\n",
            "20\n"
          ]
        }
      ]
    },
    {
      "cell_type": "code",
      "source": [
        "##print even numbers from 10 to 20 ?\n",
        "i=10\n",
        "while i<=20:\n",
        "  if i%2!=0:\n",
        "    print(i)\n",
        "  i=i+1"
      ],
      "metadata": {
        "colab": {
          "base_uri": "https://localhost:8080/"
        },
        "id": "8_Ay_K_xBDcZ",
        "outputId": "a4184e82-9ef6-47bf-8eb1-afe2bdacc0c8"
      },
      "execution_count": 7,
      "outputs": [
        {
          "output_type": "stream",
          "name": "stdout",
          "text": [
            "11\n",
            "13\n",
            "15\n",
            "17\n",
            "19\n"
          ]
        }
      ]
    },
    {
      "cell_type": "code",
      "source": [
        "#sum of 1 to 10 ?\n",
        "s=0\n",
        "i=1\n",
        "while i<=10:\n",
        "  s=s+i\n",
        "  i=i+1\n",
        "print(s)"
      ],
      "metadata": {
        "colab": {
          "base_uri": "https://localhost:8080/"
        },
        "id": "_A6x_3qdBa0c",
        "outputId": "71a215d9-b52c-4d6e-c86f-da02b650e1f4"
      },
      "execution_count": 11,
      "outputs": [
        {
          "output_type": "stream",
          "name": "stdout",
          "text": [
            "55\n"
          ]
        }
      ]
    },
    {
      "cell_type": "code",
      "source": [
        "#sum of 1 to n ?\n",
        "n=int(input())\n",
        "s=0\n",
        "i=1\n",
        "while i<=n:\n",
        "  s=s+i\n",
        "  i=i+1\n",
        "print(\"sum of n numbers is\", s)"
      ],
      "metadata": {
        "colab": {
          "base_uri": "https://localhost:8080/"
        },
        "id": "ijiGlXCICkmK",
        "outputId": "8794eb05-6fae-4b9b-a5cd-749ef5678dea"
      },
      "execution_count": 17,
      "outputs": [
        {
          "output_type": "stream",
          "name": "stdout",
          "text": [
            "10\n",
            "sum of n numbers is 55\n"
          ]
        }
      ]
    },
    {
      "cell_type": "code",
      "source": [
        "#product of n numbers?\n",
        "n=int(input())\n",
        "s=1\n",
        "i=1\n",
        "while i<=n:\n",
        "  s=s*i\n",
        "  i=i+1\n",
        "print(\"product of n numbers\",s)\n"
      ],
      "metadata": {
        "colab": {
          "base_uri": "https://localhost:8080/"
        },
        "id": "NupGey9fEK1U",
        "outputId": "d981bd45-6f05-4308-9664-66f1dad486e1"
      },
      "execution_count": 18,
      "outputs": [
        {
          "output_type": "stream",
          "name": "stdout",
          "text": [
            "10\n",
            "product of n numbers 3628800\n"
          ]
        }
      ]
    },
    {
      "cell_type": "code",
      "source": [
        "#sum of even numbers from 5 to 20?\n",
        "s=0\n",
        "i=1\n",
        "while i<=20:\n",
        "  if i%2==0:\n",
        "    s=s+i\n",
        "  i=i+1\n",
        "print(s)\n"
      ],
      "metadata": {
        "colab": {
          "base_uri": "https://localhost:8080/"
        },
        "id": "ykBY3x9RGm0M",
        "outputId": "eb635367-5db1-485e-a07d-276ab164a577"
      },
      "execution_count": 21,
      "outputs": [
        {
          "output_type": "stream",
          "name": "stdout",
          "text": [
            "110\n"
          ]
        }
      ]
    },
    {
      "cell_type": "code",
      "source": [
        "#iterating string #################################\n"
      ],
      "metadata": {
        "id": "w5hq6mOZIUXo"
      },
      "execution_count": null,
      "outputs": []
    },
    {
      "cell_type": "code",
      "source": [],
      "metadata": {
        "id": "jEQWU45fIeVX"
      },
      "execution_count": null,
      "outputs": []
    }
  ],
  "metadata": {
    "colab": {
      "provenance": [],
      "authorship_tag": "ABX9TyNamzlwddzxgrDRZwfERB4N",
      "include_colab_link": true
    },
    "kernelspec": {
      "display_name": "Python 3",
      "name": "python3"
    },
    "language_info": {
      "name": "python"
    }
  },
  "nbformat": 4,
  "nbformat_minor": 0
}